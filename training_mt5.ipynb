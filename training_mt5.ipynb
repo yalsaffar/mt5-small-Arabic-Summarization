{
 "cells": [
  {
   "cell_type": "code",
   "execution_count": null,
   "metadata": {},
   "outputs": [],
   "source": [
    "# Import necessary modules\n",
    "from data_utils import *\n",
    "from model_loader import *"
   ]
  },
  {
   "cell_type": "code",
   "execution_count": null,
   "metadata": {},
   "outputs": [],
   "source": [
    "# Create an instance of the DataLoader class\n",
    "DataLoader_class = DataLoader(\"data/bbc_news_arabic_summarization.csv\")\n",
    "\n",
    "# Load the dataframe\n",
    "df = DataLoader_class.load_dataframe()"
   ]
  },
  {
   "cell_type": "code",
   "execution_count": null,
   "metadata": {},
   "outputs": [],
   "source": [
    "# Load the tokenizer\n",
    "tokenizer = load_tokenizer(\"google/mt5-small\")\n",
    "\n",
    "# Load the tokenized dataframe\n",
    "tokenized_df = DataLoader_class.load_tokenized_dataframe(tokenizer)\n",
    "\n",
    "# Display the tokenized dataframe\n",
    "tokenized_df"
   ]
  },
  {
   "cell_type": "code",
   "execution_count": null,
   "metadata": {},
   "outputs": [],
   "source": [
    "# Load the model and the device to be used\n",
    "device, model = load_model(\"google/mt5-small\")"
   ]
  },
  {
   "cell_type": "code",
   "execution_count": null,
   "metadata": {},
   "outputs": [],
   "source": [
    "# Create an instance of the DataCollator class\n",
    "data_collator = data_collator(tokenizer, model)"
   ]
  },
  {
   "cell_type": "code",
   "execution_count": null,
   "metadata": {},
   "outputs": [],
   "source": [
    "# Split the dataframe into a dictionary of datasets, train, validation and test\n",
    "dataset_dict = split_dataframe(tokenized_df)"
   ]
  },
  {
   "cell_type": "code",
   "execution_count": null,
   "metadata": {},
   "outputs": [],
   "source": [
    "# Create an instance of the Trainer class\n",
    "training_args = set_training_args(\"./mt5-small-output\")"
   ]
  },
  {
   "cell_type": "code",
   "execution_count": null,
   "metadata": {},
   "outputs": [],
   "source": [
    "# Define the metrics function\n",
    "wandb_key = \"your_wandb_key\"\n",
    "# Train the model using the mt5_train function\n",
    "model_trainer = mt5_train(wandb_key, model, training_args, data_collator, metrics_func, dataset_dict, tokenizer)"
   ]
  },
  {
   "cell_type": "code",
   "execution_count": null,
   "metadata": {},
   "outputs": [],
   "source": [
    "# Save the model \n",
    "save_model(model_trainer,device, \"mt5-small-output\")"
   ]
  }
 ],
 "metadata": {
  "kernelspec": {
   "display_name": "final",
   "language": "python",
   "name": "python3"
  },
  "language_info": {
   "codemirror_mode": {
    "name": "ipython",
    "version": 3
   },
   "file_extension": ".py",
   "mimetype": "text/x-python",
   "name": "python",
   "nbconvert_exporter": "python",
   "pygments_lexer": "ipython3",
   "version": "3.8.17"
  }
 },
 "nbformat": 4,
 "nbformat_minor": 2
}
